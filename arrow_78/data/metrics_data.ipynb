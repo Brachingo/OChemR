{
 "cells": [
  {
   "cell_type": "code",
   "execution_count": 2,
   "metadata": {},
   "outputs": [],
   "source": [
    "# Copyright (c) 2022 rxn4chemistry \n",
    "# - Mark Martori Lopez\n",
    "import glob\n",
    "import cv2\n",
    "import pandas as pd\n",
    "import torch\n",
    "from torch.utils.data import Dataset, DataLoader\n",
    "import os\n",
    "#import matplotlib.pyplot as plt\n",
    "import numpy as np\n",
    "import torchvision.transforms as transforms\n",
    "import albumentations as A\n",
    "from albumentations.pytorch import ToTensorV2\n",
    "from tqdm import tqdm"
   ]
  },
  {
   "cell_type": "markdown",
   "metadata": {},
   "source": [
    "##### Read Training Data Set"
   ]
  },
  {
   "cell_type": "code",
   "execution_count": 3,
   "metadata": {},
   "outputs": [
    {
     "data": {
      "text/plain": [
       "'../../images/train/Final_reaction_Epoch5_it_5639.png'"
      ]
     },
     "execution_count": 3,
     "metadata": {},
     "output_type": "execute_result"
    }
   ],
   "source": [
    "images = []\n",
    "def imagesIds(path):\n",
    "    for img in glob.glob(path+\"*.png\"):\n",
    "        images.append(img) \n",
    "    return images\n",
    "def getDF(path):\n",
    "    \"\"\"\n",
    "    Returns dataframe format of training images.\n",
    "    \"\"\"\n",
    "    listImgs = imagesIds(path)\n",
    "    df = pd.DataFrame(listImgs, index=None)\n",
    "    return df\n",
    "\n",
    "df = getDF(\"../../images/train/\")\n",
    "df.iloc[2][0]"
   ]
  },
  {
   "cell_type": "code",
   "execution_count": 4,
   "metadata": {},
   "outputs": [],
   "source": [
    "class Arrow(Dataset):\n",
    "    def __init__(self,data, directory, transform = None):\n",
    "        self.data      = data\n",
    "        self.directory = directory\n",
    "        self.transform = transform\n",
    "        \n",
    "    def __len__(self):\n",
    "        return len(self.data)\n",
    "    \n",
    "    def __getitem__(self, idx):\n",
    "        path  = os.path.join(self.directory, self.data.iloc[idx][0]) # import\n",
    "        image = cv2.imread(path) #, cv2.COLOR_BGR2RGB)\n",
    "            \n",
    "        # augmentations\n",
    "        if self.transform is not None:\n",
    "            image = self.transform(image = image)['image']\n",
    "        return image\n",
    "augs = A.Compose([A.Resize(height = 512, width  = 512),A.Normalize(mean = (0, 0, 0),std  = (1, 1, 1)), ToTensorV2()])"
   ]
  },
  {
   "cell_type": "markdown",
   "metadata": {},
   "source": [
    "##### Examine a sample batch"
   ]
  },
  {
   "cell_type": "code",
   "execution_count": null,
   "metadata": {},
   "outputs": [
    {
     "ename": "NameError",
     "evalue": "name 'plt' is not defined",
     "output_type": "error",
     "traceback": [
      "\u001b[0;31m---------------------------------------------------------------------------\u001b[0m",
      "\u001b[0;31mNameError\u001b[0m                                 Traceback (most recent call last)",
      "Cell \u001b[0;32mIn[5], line 9\u001b[0m\n\u001b[1;32m      7\u001b[0m \u001b[38;5;66;03m# display images\u001b[39;00m\n\u001b[1;32m      8\u001b[0m \u001b[38;5;28;01mfor\u001b[39;00m batch_idx, inputs \u001b[38;5;129;01min\u001b[39;00m \u001b[38;5;28menumerate\u001b[39m(image_loader):\n\u001b[0;32m----> 9\u001b[0m     fig \u001b[38;5;241m=\u001b[39m \u001b[43mplt\u001b[49m\u001b[38;5;241m.\u001b[39mfigure(figsize \u001b[38;5;241m=\u001b[39m (\u001b[38;5;241m14\u001b[39m, \u001b[38;5;241m7\u001b[39m))\n\u001b[1;32m     10\u001b[0m     \u001b[38;5;28;01mfor\u001b[39;00m i \u001b[38;5;129;01min\u001b[39;00m \u001b[38;5;28mrange\u001b[39m(\u001b[38;5;241m8\u001b[39m):\n\u001b[1;32m     11\u001b[0m         ax \u001b[38;5;241m=\u001b[39m fig\u001b[38;5;241m.\u001b[39madd_subplot(\u001b[38;5;241m2\u001b[39m, \u001b[38;5;241m4\u001b[39m, i \u001b[38;5;241m+\u001b[39m \u001b[38;5;241m1\u001b[39m, xticks \u001b[38;5;241m=\u001b[39m [], yticks \u001b[38;5;241m=\u001b[39m [])     \n",
      "\u001b[0;31mNameError\u001b[0m: name 'plt' is not defined"
     ]
    }
   ],
   "source": [
    "# dataset\n",
    "image_dataset = Arrow(data      = df, directory = '', transform = augs)\n",
    "\n",
    "# data loader\n",
    "image_loader = DataLoader(image_dataset, batch_size  = 32, shuffle     = False)\n",
    "                          \n",
    "# display images\n",
    "for batch_idx, inputs in enumerate(image_loader):\n",
    "    fig = plt.figure(figsize = (14, 7))\n",
    "    for i in range(8):\n",
    "        ax = fig.add_subplot(2, 4, i + 1, xticks = [], yticks = [])     \n",
    "        plt.imshow(inputs[i].numpy().transpose(1, 2, 0))\n",
    "    break"
   ]
  },
  {
   "cell_type": "markdown",
   "metadata": {},
   "source": [
    "##### Compute MEAN and STD"
   ]
  },
  {
   "cell_type": "code",
   "execution_count": 6,
   "metadata": {},
   "outputs": [
    {
     "name": "stderr",
     "output_type": "stream",
     "text": [
      "100%|██████████| 2813/2813 [1:21:32<00:00,  1.74s/it]  \n"
     ]
    }
   ],
   "source": [
    "# placeholders\n",
    "psum    = torch.tensor([0.0, 0.0, 0.0])\n",
    "psum_sq = torch.tensor([0.0, 0.0, 0.0])\n",
    "# loop through images\n",
    "c = 0\n",
    "for inputs in tqdm(image_loader):\n",
    "    try:\n",
    "        psum    += inputs.sum(axis        = [0, 2, 3])\n",
    "        psum_sq += (inputs ** 2).sum(axis = [0, 2, 3])\n",
    "    except:\n",
    "        print(f\"{c} Images not found.\")"
   ]
  },
  {
   "cell_type": "code",
   "execution_count": null,
   "metadata": {},
   "outputs": [
    {
     "name": "stdout",
     "output_type": "stream",
     "text": [
      "mean: tensor([0.9717, 0.9717, 0.9717])\n",
      "std:  tensor([0.1345, 0.1345, 0.1345])\n"
     ]
    },
    {
     "data": {
      "text/plain": [
       "'\\nmean: tensor([0.9657, 0.9656, 0.9656])\\nstd:  tensor([0.1472, 0.1474, 0.1474])\\n'"
      ]
     },
     "execution_count": 7,
     "metadata": {},
     "output_type": "execute_result"
    }
   ],
   "source": [
    "# pixel count\n",
    "count = len(df) * 512 * 512\n",
    "\n",
    "# mean and std\n",
    "total_mean = psum / count\n",
    "total_var  = (psum_sq / count) - (total_mean ** 2)\n",
    "total_std  = torch.sqrt(total_var)\n",
    "\n",
    "# output\n",
    "print('mean: '  + str(total_mean))\n",
    "print('std:  '  + str(total_std))\n",
    "\"\"\"\n",
    "mean: tensor([0.9717, 0.9717, 0.9717])\n",
    "std:  tensor([0.1345, 0.1345, 0.1345])\n",
    "\"\"\""
   ]
  }
 ],
 "metadata": {
  "kernelspec": {
   "display_name": "ochemr310",
   "language": "python",
   "name": "python3"
  },
  "language_info": {
   "codemirror_mode": {
    "name": "ipython",
    "version": 3
   },
   "file_extension": ".py",
   "mimetype": "text/x-python",
   "name": "python",
   "nbconvert_exporter": "python",
   "pygments_lexer": "ipython3",
   "version": "3.10.0"
  },
  "orig_nbformat": 4
 },
 "nbformat": 4,
 "nbformat_minor": 2
}
